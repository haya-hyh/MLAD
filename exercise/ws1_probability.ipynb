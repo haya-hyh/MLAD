{
 "cells": [
  {
   "cell_type": "code",
   "metadata": {
    "collapsed": true,
    "ExecuteTime": {
     "end_time": "2024-10-31T14:41:58.397907Z",
     "start_time": "2024-10-31T14:41:58.142129Z"
    }
   },
   "source": [
    "import numpy as np\n",
    "import matplotlib.pyplot as plt\n",
    "import utils.simplex_plots as simplex_plots\n",
    "from utils.simplex_plots import Dirichlet"
   ],
   "outputs": [],
   "execution_count": 1
  },
  {
   "cell_type": "markdown",
   "source": [
    "# 1.1 Categorical-Dirichlet Model\n",
    "\n"
   ],
   "metadata": {
    "collapsed": false
   }
  },
  {
   "cell_type": "markdown",
   "source": [
    "## 1.1.1 Derive the MLE for the Categorical Distribution\n",
    "\n",
    "Let $X=\\{X_1, X_2, ..., X_N \\}$ be i.i.d. random variables from a Categorical distribution of K categories with parameter $\\theta=[\\theta_1, ..., \\theta_K]$.\n",
    "\n",
    "The probability mass function, pmf, for observation n is given by: $p(X_n=x_n | \\theta) = \\prod_{k=1}^K \\theta_k^{I(x_n=k)}$, where I is the indicator function.\n",
    "Derive the MLE for $\\theta$ for N observations."
   ],
   "metadata": {
    "collapsed": false
   }
  },
  {
   "cell_type": "markdown",
   "source": [
    "### Solution:\n",
    "\n",
    "First, a useful trick is to use the log-likelihood instead of the likelihood, since the log-likelihood is a monotonically increasing function. Thus, we have:\n",
    "$$\\arg \\underset{\\theta}{\\operatorname{\\max}} p(X | \\theta) = \\arg \\underset{\\theta}{\\operatorname{\\max}} \\log p(X | \\theta)\n",
    " \\\\ =  \\arg \\underset{\\theta}{\\operatorname{\\max}} \\log \\big ( \\prod_{n=1}^N p(X_n=x_n | \\theta) \\big ) = \\arg \\underset{\\theta}{\\operatorname{\\max}} \\log \\big ( \\prod_{n=1}^N \\prod_{k=1}^K \\theta_k^{I(x_n=k)} \\big )$$\n",
    "\n",
    "Pushing the log inside the product, the expression further simplifies to:\n",
    "$$ \\arg \\underset{\\theta}{\\operatorname{\\max}} \\sum_{n=1}^N \\sum_{k=1}^K (I(x_n=k)) \\log \\theta_k$$\n",
    "\n",
    "We have the constraint that $\\sum_{k=1}^K \\theta_k = 1$, and thus turn to Lagrange multipliers:\n",
    "$$ L = \\log p(X | \\theta) + \\lambda ( \\sum_{k=1}^K \\theta_k - 1 ) $$ and solve for $\\frac{\\partial}{\\partial \\theta_k} L = 0$ and $\\frac{\\partial}{\\partial \\lambda} L = 0$:\n",
    "$$\\frac{\\partial}{\\partial \\theta_k} L = \\frac{\\partial}{\\partial \\theta_k} \\Big[ \\sum_{n=1}^N \\sum_{k=1}^K (I(x_n=k)) \\log \\theta_k + \\lambda ( \\sum_{k=1}^K \\theta_k - 1 )\\Big] = 0$$\n",
    "\n",
    "Derivation with notes in can be found in the pdf in Canvas."
   ],
   "metadata": {
    "collapsed": false
   }
  },
  {
   "cell_type": "code",
   "source": [
    "def MLE_categorical(x, num_classes):\n",
    "    \"\"\"\n",
    "    Compute the MLE for the Categorical distribution.\n",
    "\n",
    "    Args:\n",
    "    x: a numpy array of shape (num_samples)\n",
    "    num_classes: number of classes\n",
    "\n",
    "    Returns:\n",
    "    theta: a numpy array of shape (num_classes)\n",
    "    \"\"\"\n",
    "    theta = np.zeros(num_classes)\n",
    "    N = len(x)\n",
    "    for k in range(num_classes):\n",
    "        theta[k] = np.sum(x == k) / N\n",
    "    return theta"
   ],
   "metadata": {
    "collapsed": false,
    "ExecuteTime": {
     "end_time": "2024-10-31T14:41:58.402800Z",
     "start_time": "2024-10-31T14:41:58.400900Z"
    }
   },
   "outputs": [],
   "execution_count": 2
  },
  {
   "cell_type": "markdown",
   "source": [
    "### Solution:\n",
    "\n",
    "One way is to derive the posterior distribution of $\\theta | X$, e.g. by using conjugate priors, and then derive the MAP estimate of $\\theta | X$.\n",
    "\n",
    "Another way is to note that:\n",
    "$$\\arg \\underset{\\theta}{\\operatorname{\\max}} \\frac{p(X, \\theta)}{p(X)}  = \\arg \\underset{\\theta}{\\operatorname{\\max}} p(X, \\theta)  =  \\arg \\underset{\\theta}{\\operatorname{\\max}}  p(X | \\theta) p(\\theta)$$\n",
    "\n",
    "Since $p(X_n | \\theta) = \\prod_{k=1}^K \\theta_k^{I(x_n=k)}$ and $p(\\theta) = \\frac{1}{B(\\alpha)} \\prod_{k=1}^K \\theta_k^{\\alpha_k - 1}$, we have:\n",
    "\n",
    "$$\\arg \\underset{\\theta}{\\operatorname{\\max}} p(X | \\theta) p(\\theta) = \\arg \\underset{\\theta}{\\operatorname{\\max}} \\prod_{n=1}^N \\prod_{k=1}^K \\theta_k^{I(x_n=k)} \\cdot \\frac{1}{B(\\alpha)} \\prod_{k=1}^K \\theta_k^{\\alpha_k - 1} = \\frac{1}{B(\\alpha)} \\prod_{k=1}^K \\theta_k^{\\sum_{n=1}^N I(x_n=k) + \\alpha_k - 1}$$\n",
    "\n",
    "Once again, we use the log-likelihood instead as it is easier to handle. Furthmore, $\\frac{1}{B(\\alpha)}$ is a constant w.r.t. $\\theta$. Thus, we have:\n",
    "$$\\arg \\underset{\\theta}{\\operatorname{\\max}} \\log p(X | \\theta) p(\\theta) =  \\arg \\underset{\\theta}{\\operatorname{\\max}} \\sum_{k=1}^K \\big ( \\sum_{n=1}^N I(x_n=k) + \\alpha_k - 1 \\big ) \\log \\theta_k$$\n",
    "\n",
    "We have the constraint that $\\sum_{k=1}^K \\theta_k = 1$, and thus turn to Lagrange multipliers:\n",
    "$$ L = \\log p(X | \\theta) p(\\theta) + \\lambda ( \\sum_{k=1}^K \\theta_k - 1 ) $$ and solve for $\\frac{\\partial}{\\partial \\theta_k} L = 0$ and $\\frac{\\partial}{\\partial \\lambda} L = 0$.\n",
    "\n",
    "Derivation with notes in can be found in the pdf in Canvas.\n"
   ],
   "metadata": {
    "collapsed": false
   }
  },
  {
   "metadata": {
    "collapsed": false
   },
   "cell_type": "markdown",
   "source": [
    "## 1.1.2 Derive the MAP for the Categorical-Dirichlet Model\n",
    "For $X_n$ ~ Categorical($\\theta$), $\\theta$ ~ Dirichlet($\\alpha$), derive the posterior distribution of $\\theta | X$. Using the posterior distribution, derive the MAP estimate of $\\theta | X$."
   ]
  },
  {
   "cell_type": "code",
   "source": [
    "def MAP_categorical_dirichlet(x, num_classes, alpha):\n",
    "    \"\"\"\n",
    "    Compute the MAP for the Categorical-Dirichlet model.\n",
    "\n",
    "    Args:\n",
    "    x: a numpy array of shape (num_samples)\n",
    "    num_classes: number of classes\n",
    "    alpha: parameter of the Dirichlet distribution\n",
    "\n",
    "    Returns:\n",
    "    theta: a numpy array of shape (num_classes)\n",
    "    \"\"\"\n",
    "    theta = np.zeros(num_classes)\n",
    "    N = len(x)\n",
    "    for i in range(num_classes):\n",
    "        theta[i] = (np.sum(x == i) + alpha[i] - 1) / (N + np.sum(alpha - 1))  # N_j + alpha_j - 1 / N + sum(alpha - 1)\n",
    "    \n",
    "    return theta"
   ],
   "metadata": {
    "collapsed": false,
    "ExecuteTime": {
     "end_time": "2024-10-31T14:41:58.470146Z",
     "start_time": "2024-10-31T14:41:58.468174Z"
    }
   },
   "outputs": [],
   "execution_count": 3
  },
  {
   "cell_type": "markdown",
   "source": [
    "## 1.1.3 Generate Data and Visuzalize MLE and MAP\n",
    "\n",
    "Throughout this course, we will generate data from increasingly more complex models. Here, we will start with the simplest models, when we only have one distribution."
   ],
   "metadata": {
    "collapsed": false
   }
  },
  {
   "cell_type": "markdown",
   "source": [
    "### Generate data from a Categorical and Dirichlet distributions\n"
   ],
   "metadata": {
    "collapsed": false
   }
  },
  {
   "cell_type": "code",
   "source": [
    "def generate_data_categorical(num_samples, num_classes, theta):\n",
    "    \"\"\"\n",
    "    Generate data from a Categorical distribution.\n",
    "\n",
    "    Args:\n",
    "    num_samples: number of samples to generate\n",
    "    num_classes: number of classes\n",
    "    theta: a numpy array of shape (num_classes)\n",
    "\n",
    "    Returns:\n",
    "    data: a numpy array of shape (num_samples)\n",
    "    \"\"\"\n",
    "    x = np.random.choice(num_classes, num_samples, p=theta)\n",
    "    return x\n",
    "\n",
    "def generate_data_dirichlet(num_samples, num_classes, alpha):\n",
    "    \"\"\"\n",
    "    Generate data from a Dirichlet distribution.\n",
    "\n",
    "    Args:\n",
    "    num_samples: number of samples to generate\n",
    "    num_classes: number of classes\n",
    "    alpha: parameter of the Dirichlet distribution\n",
    "\n",
    "    Returns:\n",
    "    theta: a numpy array of shape (num_samples, num_classes)\n",
    "    \"\"\"\n",
    "    if type(alpha) == float:\n",
    "        alpha = alpha * np.ones(num_classes)\n",
    "\n",
    "    theta = np.random.dirichlet(alpha, num_samples)\n",
    "    return theta.squeeze()"
   ],
   "metadata": {
    "collapsed": false,
    "ExecuteTime": {
     "end_time": "2024-10-31T14:41:58.475589Z",
     "start_time": "2024-10-31T14:41:58.473627Z"
    }
   },
   "outputs": [],
   "execution_count": 4
  },
  {
   "cell_type": "markdown",
   "source": [
    "\n"
   ],
   "metadata": {
    "collapsed": false
   }
  },
  {
   "cell_type": "markdown",
   "source": [
    "### Test data generation\n",
    "\n",
    "Generate data from the distributions and verify that the data generated is consistent with the parameters used for generation."
   ],
   "metadata": {
    "collapsed": false
   }
  },
  {
   "metadata": {},
   "cell_type": "markdown",
   "source": "#### Test data generation - Categorical"
  },
  {
   "cell_type": "code",
   "source": [
    "theta_fixed = [0.35, 0.5, 0.15]\n",
    "K_test = len(theta_fixed)\n",
    "N_test = 10000\n",
    "x_test = generate_data_categorical(num_samples=N_test, num_classes=K_test, theta=theta_fixed)\n",
    "x_one_hot = np.eye(K_test)[x_test]\n",
    "\n",
    "x_mean = np.mean(x_one_hot, axis=0)\n",
    "\n",
    "assert np.allclose(x_mean, theta_fixed, rtol=0.1)\n",
    "\n",
    "print(f\"True theta: {theta_fixed} \\nEstimated theta: {x_mean}\")"
   ],
   "metadata": {
    "collapsed": false,
    "ExecuteTime": {
     "end_time": "2024-10-31T14:41:58.492996Z",
     "start_time": "2024-10-31T14:41:58.480679Z"
    }
   },
   "outputs": [
    {
     "name": "stdout",
     "output_type": "stream",
     "text": [
      "True theta: [0.35, 0.5, 0.15] \n",
      "Estimated theta: [0.3319 0.513  0.1551]\n"
     ]
    }
   ],
   "execution_count": 5
  },
  {
   "cell_type": "markdown",
   "source": "#### Test data generation - Dirichlet\n",
   "metadata": {
    "collapsed": false
   }
  },
  {
   "cell_type": "code",
   "source": [
    "alpha_test = np.array([1., 1., 2.])  # Example: Higher alpha_k => higher probability for class k\n",
    "theta_expected_value = alpha_test / np.sum(alpha_test)\n",
    "theta_test = generate_data_dirichlet(num_samples=N_test, num_classes=K_test, alpha=alpha_test)\n",
    "\n",
    "theta_mean = np.mean(theta_test, axis=0)\n",
    "\n",
    "print(f\"Expected value: {theta_expected_value} \\n Sample mean: {theta_mean}\")\n",
    "\n",
    "assert np.allclose(theta_expected_value, theta_mean, rtol=0.1)"
   ],
   "metadata": {
    "collapsed": false,
    "ExecuteTime": {
     "end_time": "2024-10-31T15:38:24.260102Z",
     "start_time": "2024-10-31T15:38:24.255340Z"
    }
   },
   "outputs": [
    {
     "name": "stdout",
     "output_type": "stream",
     "text": [
      "Expected value: [0.25 0.25 0.5 ] \n",
      " Sample mean: [0.25 0.25 0.5 ]\n"
     ]
    }
   ],
   "execution_count": 11
  },
  {
   "metadata": {},
   "cell_type": "markdown",
   "source": [
    "### Generate data, calculate and visualize the MLE and MAP\n",
    "\n",
    "Try yourself fir different values of $\\alpha_{sim}$, N and different prior parameters $\\alpha_0$. \n",
    "\n",
    "For what setting is the MAP estimate closer to the true value? Why?\n",
    "\n",
    "What happens when N increases?\n",
    "\n",
    "For what value of $\\alpha_0$ is the MAP estimate = MLE estimate?"
   ]
  },
  {
   "metadata": {
    "ExecuteTime": {
     "end_time": "2024-10-31T15:41:30.335135Z",
     "start_time": "2024-10-31T15:41:30.330985Z"
    }
   },
   "cell_type": "code",
   "source": [
    "np.random.seed(0)\n",
    "K = 3\n",
    "alpha_sim = np.array([1., 1., 3.])\n",
    "# Draw 1 Dirichlet sample theta\n",
    "theta = generate_data_dirichlet(1, K, alpha_sim)\n",
    "print(f\"{theta.shape}\")\n",
    "# Draw N Categorical samples x\n",
    "N = 20\n",
    "x = generate_data_categorical(num_samples=N, num_classes=K, theta=theta.squeeze())\n",
    "\n",
    "alpha_0 = np.ones(K) * 5. # Prior parameters (A higher alpha_0 means we anticipate samples from every class).\n",
    "theta_MLE = MLE_categorical(x, K)\n",
    "theta_MAP = MAP_categorical_dirichlet(x, K, alpha_0)\n",
    "np.set_printoptions(precision=3)\n",
    "print(f\"True: {theta} \\nMLE: {theta_MLE} \\nMAP: {theta_MAP}\")"
   ],
   "outputs": [
    {
     "name": "stdout",
     "output_type": "stream",
     "text": [
      "(3,)\n",
      "True: [0.12  0.189 0.692] \n",
      "MLE: [0.2 0.  0.8] \n",
      "MAP: [0.25  0.125 0.625]\n"
     ]
    }
   ],
   "execution_count": 16
  },
  {
   "metadata": {
    "ExecuteTime": {
     "end_time": "2024-10-31T15:41:32.618981Z",
     "start_time": "2024-10-31T15:41:32.592607Z"
    }
   },
   "cell_type": "code",
   "source": [
    "simplex_plots.plot_point(theta_MLE, point_size=20, color='black')\n",
    "simplex_plots.plot_point(theta_MAP, point_size=20, color='b')\n",
    "simplex_plots.plot_point(theta, point_size=20, color='g')\n"
   ],
   "outputs": [
    {
     "data": {
      "text/plain": [
       "<Figure size 640x480 with 1 Axes>"
      ],
      "image/png": "[encoded data removed]"
     },
     "metadata": {},
     "output_type": "display_data"
    }
   ],
   "execution_count": 17
  },
  {
   "cell_type": "markdown",
   "source": [
    "## 1.1.4 Bayesian inference\n",
    "\n",
    "Derive an expression for the posterior distribution by identifying the distribution and conjugate priors."
   ],
   "metadata": {
    "collapsed": false
   }
  },
  {
   "cell_type": "markdown",
   "source": [
    "### Solution:\n",
    "\n",
    "Using the expressions of 1.1.2, we have that the posterior distribution is given by:\n",
    "\n",
    "$$p(\\theta | X) = \\frac{p(X | \\theta)p(\\theta)}{p(X)} \\propto p(X | \\theta) p(\\theta) = \\prod_{n=1}^N \\prod_{k=1}^K \\theta_k^{I(x_n=k)} \\cdot \\frac{1}{B(\\alpha)} \\prod_{k=1}^K \\theta_k^{\\alpha_k - 1} = (\\star)$$\n",
    "\n",
    "We anticipate that the posterior distribution is a Dirichlet distribution due to conjugacy. Thus, we try to rewrite the expression in the form of a Dirichlet distribution (same form as the prior)."
   ],
   "metadata": {
    "collapsed": false
   }
  },
  {
   "metadata": {},
   "cell_type": "markdown",
   "source": [
    "As $frac{1}{B(\\alpha)}$ is a constant factor w.r.t., and we are only interested in the expression up to a normalizing constant, we proceed as follows:\n",
    "$$ (\\star) \\propto \\prod_{k=1}^K \\theta_k^{\\sum_{n=1}^N I(x_n=k)} \\theta_k^{\\alpha_k - 1} = \\prod_{k=1}^K \\theta_k^{\\sum_{n=1}^N I(x_n=k) + \\alpha_k - 1}$$\n",
    "\n",
    "Now, note that $\\prod_{k=1}^K \\theta_k^{\\sum_{n=1}^N I(x_n=k) + \\alpha_k - 1}$ is on the exact same form as the prior part of the expression above, just with a different parameter $\\alpha_k'={\\sum_{n=1}^N I(x_n=k) + \\alpha_k}$ instead of only $\\alpha_k$. From this we can see that $$ \\theta | X \\sim \\text{Dirichlet}(\\alpha_k') = \\text{Dirichlet}(\\alpha + \\sum_{n=1}^N I(x_n=k))$$"
   ]
  },
  {
   "metadata": {},
   "cell_type": "markdown",
   "source": "### Visualize the posterior distribution"
  },
  {
   "cell_type": "code",
   "source": [
    "alpha_posterior = alpha_0 + np.bincount(x, minlength=K) # alpha' above\n",
    "posterior_dist = Dirichlet(alpha_posterior)\n",
    "simplex_plots.draw_pdf_contours(posterior_dist)"
   ],
   "metadata": {
    "collapsed": false,
    "ExecuteTime": {
     "end_time": "2024-10-31T15:51:01.106572Z",
     "start_time": "2024-10-31T15:50:59.585667Z"
    }
   },
   "outputs": [
    {
     "data": {
      "text/plain": [
       "<Figure size 640x480 with 1 Axes>"
      ],
      "image/png": "[encoded data removed]"
     },
     "metadata": {},
     "output_type": "display_data"
    }
   ],
   "execution_count": 18
  },
  {
   "metadata": {},
   "cell_type": "markdown",
   "source": "### Compare the posterior distribution with the MLE and MAP"
  },
  {
   "metadata": {
    "ExecuteTime": {
     "end_time": "2024-10-31T15:51:13.015733Z",
     "start_time": "2024-10-31T15:51:11.509974Z"
    }
   },
   "cell_type": "code",
   "source": [
    "simplex_plots.plot_point(theta_MLE, point_size=20, color='black')\n",
    "simplex_plots.plot_point(theta_MAP, point_size=20, color='red')\n",
    "simplex_plots.plot_point(theta, point_size=20, color='g')\n",
    "simplex_plots.draw_pdf_contours(posterior_dist)"
   ],
   "outputs": [
    {
     "data": {
      "text/plain": [
       "<Figure size 640x480 with 1 Axes>"
      ],
      "image/png": "[encoded data removed]"
     },
     "metadata": {},
     "output_type": "display_data"
    }
   ],
   "execution_count": 19
  },
  {
   "cell_type": "code",
   "source": [],
   "metadata": {
    "collapsed": false,
    "ExecuteTime": {
     "end_time": "2024-10-31T14:42:01.873799Z",
     "start_time": "2024-10-31T14:42:01.872359Z"
    }
   },
   "outputs": [],
   "execution_count": null
  },
  {
   "cell_type": "markdown",
   "source": "# 1.2 Normal distribution with known variance",
   "metadata": {
    "collapsed": false
   }
  },
  {
   "cell_type": "markdown",
   "source": [
    "## 1.2.1 Derive the MLE for the Normal Distribution with known precision\n",
    "\n",
    "Let $X=\\{X_1, X_2, ..., X_N \\}$ be i.i.d. random variables from a Normal distribution with known precision $\\tau=\\frac{1}{\\sigma^2}$ and unknown mean $\\mu$. Derive the MLE for $\\mu$ for N observations.\n"
   ],
   "metadata": {
    "collapsed": false
   }
  },
  {
   "metadata": {},
   "cell_type": "markdown",
   "source": [
    "### Solution:\n",
    "\n",
    "The probability density function, pdf, for observation n is given by: $p(X_n=x_n | \\mu, \\tau) = \\frac{\\sqrt{\\tau}}{\\sqrt{2\\pi}} \\exp \\big ( -\\tau\\frac{(x_n - \\mu)^2}{2} \\big )$.\n",
    "\n",
    "As in the previous case, we use the log-likelihood instead of the likelihood:\n",
    "$$\\arg \\underset{\\mu}{\\operatorname{\\max}} \\log p(X | \\mu) =  \\arg \\underset{\\mu}{\\operatorname{\\max}} \\log \\big ( \\prod_{n=1}^N p(X_n=x_n | \\mu) \\big ) = \\arg \\underset{\\mu}{\\operatorname{\\max}} \\log \\big ( \\prod_{n=1}^N \\frac{\\sqrt{\\tau}}{\\sqrt{2\\pi}} \\exp \\big (-\\tau \\frac{(x_n - \\mu)^2}{2} \\big ) \\big ) = \\arg \\underset{\\mu}{\\operatorname{\\max}} \\sum_{n=1}^N \\log \\big ( \\frac{\\sqrt{\\tau}}{\\sqrt{2\\pi}} \\exp \\big ( -\\tau \\frac{(x_n - \\mu)^2}{2} \\big ) \\big )$$\n",
    "\n",
    "See handwritten solution pdf.\n",
    "\n",
    "\n",
    "\n"
   ]
  },
  {
   "cell_type": "markdown",
   "source": [
    "## 1.2.2 Derive the MAP for the Normal model with known variance\n",
    "Set a Normal prior for $\\mu$ with mean $\\mu_0$ and precision $\\lambda$. \n",
    "Derive the MAP estimate for $\\mu$.\n",
    "\n",
    "Left as an exercise. No solution provided."
   ],
   "metadata": {
    "collapsed": false
   }
  },
  {
   "metadata": {},
   "cell_type": "markdown",
   "source": [
    "## 1.2.3 Bayesian inference\n",
    "\n",
    "Derive the posterior distribution of $\\mu | X$."
   ]
  },
  {
   "metadata": {},
   "cell_type": "markdown",
   "source": [
    "### Solution:\n",
    "For the posterior, we will use the technique of \"identifying the distribution\" together with the fact that the Normal is a conjugate prior to the Normal-likelihood with known precision. \n",
    "\n",
    "This time we will instead work in log scale, where constant factors instead become additive terms which can be removed. \n",
    "\n",
    "First, lets look at our prior distribution:\n",
    "\n",
    "Prior distribution: $p(\\mu) = \\frac{\\sqrt{\\lambda}}{\\sqrt{2\\pi}} \\exp \\big ( -\\frac{\\lambda(\\mu - \\mu_0)^2}{2} \\big )$\n",
    "\n",
    "Log prior: $\\log p(\\mu) = \\log \\big ( \\frac{\\sqrt{\\lambda}}{\\sqrt{2\\pi}} \\exp \\big ( -\\frac{\\lambda(\\mu - \\mu_0)^2}{2} \\big ) \\big ) = \\log \\big ( \\frac{\\sqrt{\\lambda}}{\\sqrt{2\\pi}} \\big ) - \\frac{\\lambda(\\mu - \\mu_0)^2}{2}$\n",
    "\n",
    "The log posterior distribution is given by:\n",
    "\n",
    "$$\\log p(\\mu | X) += \\log p(X | \\mu) + \\log p(\\mu) = \\sum_{n=1}^N \\log \\big ( \\frac{\\sqrt{\\tau}}{\\sqrt{2\\pi}} \\exp \\big ( -\\tau \\frac{(x_n - \\mu)^2}{2} \\big ) \\big ) + \\log \\big ( \\frac{\\sqrt{ \\lambda}}{\\sqrt{2\\pi}} \\exp \\big ( -\\frac{\\lambda(\\mu - \\mu_0)^2}{2} \\big ) \\big )$$\n",
    "\n",
    "Solution continued in the handwritten notes pdf."
   ]
  },
  {
   "cell_type": "code",
   "source": "",
   "metadata": {
    "collapsed": false,
    "ExecuteTime": {
     "end_time": "2024-10-31T14:42:01.883708Z",
     "start_time": "2024-10-31T14:42:01.882143Z"
    }
   },
   "outputs": [],
   "execution_count": null
  }
 ],
 "metadata": {
  "kernelspec": {
   "display_name": "Python 3",
   "language": "python",
   "name": "python3"
  },
  "language_info": {
   "codemirror_mode": {
    "name": "ipython",
    "version": 2
   },
   "file_extension": ".py",
   "mimetype": "text/x-python",
   "name": "python",
   "nbconvert_exporter": "python",
   "pygments_lexer": "ipython2",
   "version": "2.7.6"
  }
 },
 "nbformat": 4,
 "nbformat_minor": 0
}
